{
  "nbformat": 4,
  "nbformat_minor": 0,
  "metadata": {
    "colab": {
      "private_outputs": true,
      "provenance": [],
      "collapsed_sections": [
        "w6K7xa23Elo4",
        "yQaldy8SH6Dl",
        "O_i_v8NEhb9l",
        "Y3lxredqlCYt",
        "3RnN4peoiCZX",
        "x71ZqKXriCWQ",
        "7hBIi_osiCS2",
        "JlHwYmJAmNHm",
        "35m5QtbWiB9F",
        "PoPl-ycgm1ru",
        "nA9Y7ga8ng1Z",
        "PBTbrJXOngz2",
        "u3PMJOP6ngxN",
        "dauF4eBmngu3",
        "MSa1f5Uengrz",
        "GF8Ens_Soomf",
        "JcMwzZxoAimU"
      ],
      "include_colab_link": true
    },
    "kernelspec": {
      "name": "python3",
      "display_name": "Python 3"
    },
    "language_info": {
      "name": "python"
    }
  },
  "cells": [
    {
      "cell_type": "markdown",
      "metadata": {
        "id": "view-in-github",
        "colab_type": "text"
      },
      "source": [
        "<a href=\"https://colab.research.google.com/github/rgguptaruchi1999/EDA-amazon-prime-videos-project-lvideo-link/blob/main/Uber_Supply_Demand_Gap_in_EDA.ipynb\" target=\"_parent\"><img src=\"https://colab.research.google.com/assets/colab-badge.svg\" alt=\"Open In Colab\"/></a>"
      ]
    },
    {
      "cell_type": "markdown",
      "source": [
        "# **Project Name**    -  Uber Supply - Demand Gap in EDA\n",
        "\n"
      ],
      "metadata": {
        "id": "vncDsAP0Gaoa"
      }
    },
    {
      "cell_type": "markdown",
      "source": [
        "##### **Project Type**    - EDA/Regression/Classification/Unsupervised\n",
        "##### **Contribution**    - Individual/Team\n",
        "##### **Team Member 1 -** - Individual"
      ],
      "metadata": {
        "id": "beRrZCGUAJYm"
      }
    },
    {
      "cell_type": "markdown",
      "source": [
        "# **Project Summary -**"
      ],
      "metadata": {
        "id": "FJNUwmbgGyua"
      }
    },
    {
      "cell_type": "markdown",
      "source": [
        "The project analyzes the supply-demand gap for Uber, focusing on why drivers cancel requests and why cars are unavailable. The goal is to find the root causes of these problems and suggest solutions. By doing so, Uber can improve customer satisfaction and increase its revenue.\n",
        "\n",
        "This project dives into a common problem for ride-sharing services like Uber: the gap between passenger demand and driver supply. When a rider requests a car and either the driver cancels or no cars are available, it creates a negative customer experience and directly impacts Uber's revenue.\n",
        "\n",
        "The analysis will focus on identifying the root causes behind these two key issues:\n",
        "\n",
        "Cancellations: Why do drivers cancel trips after accepting them?\n",
        "Non-availability: Why are there not enough cars available in certain areas or at certain times?\n",
        "By analyzing the provided data, the project aims to uncover patterns and insights related to these problems. The ultimate goal is to provide Uber with a clear understanding of the underlying issues and to recommend data-driven solutions to improve driver availability and reduce cancellations, leading to a better customer experience and increased revenue.\n",
        "\n"
      ],
      "metadata": {
        "id": "F6v_1wHtG2nS"
      }
    },
    {
      "cell_type": "markdown",
      "source": [
        "# **GitHub Link -**"
      ],
      "metadata": {
        "id": "w6K7xa23Elo4"
      }
    },
    {
      "cell_type": "markdown",
      "source": [
        "Provide your GitHub Link here."
      ],
      "metadata": {
        "id": "h1o69JH3Eqqn"
      }
    },
    {
      "cell_type": "markdown",
      "source": [
        "# **Problem Statement**\n"
      ],
      "metadata": {
        "id": "yQaldy8SH6Dl"
      }
    },
    {
      "cell_type": "markdown",
      "source": [
        "**Write Problem Statement Here.**    The aim of analysis is to identify the root cause of the problem (i.e. cancellation and non-availability of cars) and recommend ways to improve the situation. As a result of your analysis, we will be able to present to the client the root cause(s) and possible hypotheses of the problem(s) and recommend ways to improve them. ."
      ],
      "metadata": {
        "id": "DpeJGUA3kjGy"
      }
    },
    {
      "cell_type": "markdown",
      "source": [
        "#### **Define Your Business Objective?**"
      ],
      "metadata": {
        "id": "PH-0ReGfmX4f"
      }
    },
    {
      "cell_type": "markdown",
      "source": [
        " We may have some experience of travelling to and from the airport. We have used Uber or any other cab service for this travel? Did you at any time face the problem of cancellation by the driver or non-availability of cars?\n",
        "\n",
        "Well, if these are the problems faced by customers, these very issues also impact the business of Uber. If drivers cancel the request of riders or if cars are unavailable, Uber loses out on its revenue. Let’s hear more about such problems that Uber faces during its operations.\n",
        "\n",
        "\n",
        "\n",
        "\n",
        "There are six attributes associated with each request made by a customer:\n",
        "\n",
        "Request id: A unique identifier of the request\n",
        "\n",
        "Time of request: The date and time at which the customer made the trip request\n",
        "\n",
        "Drop-off time: The drop-off date and time, in case the trip was completed\n",
        "\n",
        "Pick-up point: The point from which the request was made\n",
        "\n",
        "Driver id: The unique identification number of the driver\n",
        "\n",
        "Status of the request: The final status of the trip, that can be either completed, cancelled by the driver or no cars available\n",
        "\n"
      ],
      "metadata": {
        "id": "PhDvGCAqmjP1"
      }
    },
    {
      "cell_type": "markdown",
      "source": [
        "# **General Guidelines** : -  "
      ],
      "metadata": {
        "id": "mDgbUHAGgjLW"
      }
    },
    {
      "cell_type": "markdown",
      "source": [
        "1.   Well-structured, formatted, and commented code is required.\n",
        "2.   Exception Handling, Production Grade Code & Deployment Ready Code will be a plus. Those students will be awarded some additional credits.\n",
        "     \n",
        "     The additional credits will have advantages over other students during Star Student selection.\n",
        "       \n",
        "             [ Note: - Deployment Ready Code is defined as, the whole .ipynb notebook should be executable in one go\n",
        "                       without a single error logged. ]\n",
        "\n",
        "3.   Each and every logic should have proper comments.\n",
        "4. You may add as many number of charts you want. Make Sure for each and every chart the following format should be answered.\n",
        "        \n",
        "\n",
        "```\n",
        "# Chart visualization code\n",
        "```\n",
        "            \n",
        "\n",
        "*   Why did you pick the specific chart?\n",
        "*   What is/are the insight(s) found from the chart?\n",
        "* Will the gained insights help creating a positive business impact?\n",
        "Are there any insights that lead to negative growth? Justify with specific reason.\n",
        "\n",
        "5. You have to create at least 20 logical & meaningful charts having important insights.\n",
        "\n",
        "\n",
        "[ Hints : - Do the Vizualization in  a structured way while following \"UBM\" Rule.\n",
        "\n",
        "U - Univariate Analysis,\n",
        "\n",
        "B - Bivariate Analysis (Numerical - Categorical, Numerical - Numerical, Categorical - Categorical)\n",
        "\n",
        "M - Multivariate Analysis\n",
        " ]\n",
        "\n",
        "\n",
        "\n"
      ],
      "metadata": {
        "id": "ZrxVaUj-hHfC"
      }
    },
    {
      "cell_type": "markdown",
      "source": [
        "# ***Let's Begin !***"
      ],
      "metadata": {
        "id": "O_i_v8NEhb9l"
      }
    },
    {
      "cell_type": "markdown",
      "source": [
        "## ***1. Know Your Data***"
      ],
      "metadata": {
        "id": "HhfV-JJviCcP"
      }
    },
    {
      "cell_type": "markdown",
      "source": [
        "### Import Libraries"
      ],
      "metadata": {
        "id": "Y3lxredqlCYt"
      }
    },
    {
      "cell_type": "code",
      "source": [
        "# Import Libraries\n",
        "import pandas as pd\n",
        "import numpy as np\n",
        "import matplotlib.pyplot as plt\n",
        "import seaborn as sns"
      ],
      "metadata": {
        "id": "M8Vqi-pPk-HR"
      },
      "execution_count": null,
      "outputs": []
    },
    {
      "cell_type": "markdown",
      "source": [
        "### Dataset Loading"
      ],
      "metadata": {
        "id": "3RnN4peoiCZX"
      }
    },
    {
      "cell_type": "code",
      "source": [
        "# Load Dataset\n",
        "df = pd.read_csv(\"Uber Request Data (1).csv\")"
      ],
      "metadata": {
        "id": "4CkvbW_SlZ_R"
      },
      "execution_count": null,
      "outputs": []
    },
    {
      "cell_type": "markdown",
      "source": [
        "### Dataset First View"
      ],
      "metadata": {
        "id": "x71ZqKXriCWQ"
      }
    },
    {
      "cell_type": "code",
      "source": [
        "df.head()"
      ],
      "metadata": {
        "collapsed": true,
        "id": "lz-Gsp6GpxP3"
      },
      "execution_count": null,
      "outputs": []
    },
    {
      "cell_type": "markdown",
      "source": [
        "### Dataset Rows & Columns count"
      ],
      "metadata": {
        "id": "7hBIi_osiCS2"
      }
    },
    {
      "cell_type": "code",
      "source": [
        "# Dataset Rows & Columns count\n",
        "print(f\"The dataset has {df.shape[0]} rows and {df.shape[1]} columns.\")"
      ],
      "metadata": {
        "id": "Kllu7SJgmLij"
      },
      "execution_count": null,
      "outputs": []
    },
    {
      "cell_type": "markdown",
      "source": [
        "### Dataset Information"
      ],
      "metadata": {
        "id": "JlHwYmJAmNHm"
      }
    },
    {
      "cell_type": "code",
      "source": [
        "# Dataset Info\n",
        "df.info()"
      ],
      "metadata": {
        "id": "e9hRXRi6meOf"
      },
      "execution_count": null,
      "outputs": []
    },
    {
      "cell_type": "markdown",
      "source": [
        "#### Duplicate Values"
      ],
      "metadata": {
        "id": "35m5QtbWiB9F"
      }
    },
    {
      "cell_type": "code",
      "source": [
        "# Duplicate Values\n",
        "if df.duplicated().sum() > 0:\n",
        "    print(\"The dataset contains duplicate rows.\")\n",
        "else:\n",
        "    print(\"The dataset does not contain any duplicate rows.\")"
      ],
      "metadata": {
        "id": "1sLdpKYkmox0"
      },
      "execution_count": null,
      "outputs": []
    },
    {
      "cell_type": "markdown",
      "source": [
        "#### Missing Values/Null Values"
      ],
      "metadata": {
        "id": "PoPl-ycgm1ru"
      }
    },
    {
      "cell_type": "code",
      "source": [
        "# Missing Values/Null Values Count"
      ],
      "metadata": {
        "id": "GgHWkxvamxVg"
      },
      "execution_count": null,
      "outputs": []
    },
    {
      "cell_type": "code",
      "source": [
        "# Visualizing the missing values\n",
        "plt.figure(figsize=(10, 6))\n",
        "sns.heatmap(df.isnull(), cbar=False, cmap='viridis')\n",
        "plt.title('Missing Values Heatmap')\n",
        "plt.show()"
      ],
      "metadata": {
        "id": "3q5wnI3om9sJ"
      },
      "execution_count": null,
      "outputs": []
    },
    {
      "cell_type": "markdown",
      "source": [
        "### What did you know about your dataset?"
      ],
      "metadata": {
        "id": "H0kj-8xxnORC"
      }
    },
    {
      "cell_type": "markdown",
      "source": [
        "The dataset contains 6745 rows and 8 columns. There are no duplicate rows.\n",
        "\n",
        "Missing Values:\n",
        "\n",
        "Driver id: 2650 missing values\n",
        "Drop timestamp: 3914 missing values\n",
        "Drop timestamp.1: 3914 missing values\n",
        "The missing values in Driver id and Drop timestamp likely correspond to trips that were not completed (i.e., 'Cancelled' or 'No Cars Available'). The two timestamp columns, Request timestamp and Drop timestamp seem to be split into two columns each, one for the date and one for the time. These will need to be combined and converted to a datetime format for proper analysis.\n",
        "\n"
      ],
      "metadata": {
        "id": "gfoNAAC-nUe_"
      }
    },
    {
      "cell_type": "markdown",
      "source": [
        "## ***2. Understanding Your Variables***"
      ],
      "metadata": {
        "id": "nA9Y7ga8ng1Z"
      }
    },
    {
      "cell_type": "code",
      "source": [
        "# Dataset Columns\n",
        "print(df.columns)"
      ],
      "metadata": {
        "id": "j7xfkqrt5Ag5"
      },
      "execution_count": null,
      "outputs": []
    },
    {
      "cell_type": "code",
      "source": [
        "df.describe()"
      ],
      "metadata": {
        "id": "DnOaZdaE5Q5t"
      },
      "execution_count": null,
      "outputs": []
    },
    {
      "cell_type": "markdown",
      "source": [
        "### Variables Description"
      ],
      "metadata": {
        "id": "PBTbrJXOngz2"
      }
    },
    {
      "cell_type": "markdown",
      "source": [
        "Request id: A unique identifier for each request.\n",
        "Pickup point: The location where the rider requested the pickup (Airport or City).\n",
        "Driver id: A unique identifier for each driver.\n",
        "Status: The status of the request (Trip Completed, Cancelled, No Cars Available).\n",
        "Request timestamp: The date and time when the request was made.\n",
        "Drop timestamp: The date and time when the trip was completed.\n",
        "Request timestamp.1: The time portion of the request timestamp.\n",
        "Drop timestamp.1: The time portion of the drop timestamp.\n",
        "\n"
      ],
      "metadata": {
        "id": "aJV4KIxSnxay"
      }
    },
    {
      "cell_type": "markdown",
      "source": [
        "### Check Unique Values for each variable."
      ],
      "metadata": {
        "id": "u3PMJOP6ngxN"
      }
    },
    {
      "cell_type": "code",
      "source": [
        "# Check Unique Values for each variable.\n",
        "for col in df.columns:\n",
        "    print(f\"Unique values in {col}:\")\n",
        "    print(df[col].unique())\n",
        "    print(\"-\" * 30)"
      ],
      "metadata": {
        "id": "zms12Yq5n-jE"
      },
      "execution_count": null,
      "outputs": []
    },
    {
      "cell_type": "markdown",
      "source": [
        "## 3. ***Data Wrangling***"
      ],
      "metadata": {
        "id": "dauF4eBmngu3"
      }
    },
    {
      "cell_type": "markdown",
      "source": [
        "### Data Wrangling Code"
      ],
      "metadata": {
        "id": "bKJF3rekwFvQ"
      }
    },
    {
      "cell_type": "code",
      "source": [
        "# Load Dataset\n",
        "df = pd.read_csv(\"Uber Request Data (1).csv\")\n",
        "\n",
        "# Data Wrangling Code\n",
        "def parse_time(date_str, time_str):\n",
        "    if pd.isna(date_str) or pd.isna(time_str):\n",
        "        return pd.NaT\n",
        "    try:\n",
        "        return pd.to_datetime(date_str + ' ' + time_str)\n",
        "    except:\n",
        "        return pd.to_datetime(date_str + ' ' + time_str, format='%d-%m-%Y %I.%M.%S %p')\n",
        "\n",
        "df['Request datetime'] = df.apply(lambda row: parse_time(row['Request timestamp'], row['Request timestamp.1']), axis=1)\n",
        "df['Drop datetime'] = df.apply(lambda row: parse_time(row['Drop timestamp'], row['Drop timestamp.1']), axis=1)\n",
        "\n",
        "\n",
        "# Drop the original timestamp columns\n",
        "cols_to_drop = ['Request timestamp', 'Drop timestamp', 'Request timestamp.1', 'Drop timestamp.1']\n",
        "df = df.drop([col for col in cols_to_drop if col in df.columns], axis=1)\n",
        "\n",
        "# Display the first few rows with the updated timestamp columns\n",
        "df.head()"
      ],
      "metadata": {
        "id": "QBOSbD9z6mps"
      },
      "execution_count": null,
      "outputs": []
    },
    {
      "cell_type": "code",
      "source": [
        "# Load Dataset\n",
        "df = pd.read_csv(\"Uber Request Data (1).csv\")\n",
        "\n",
        "# Data Wrangling Code\n",
        "def parse_time(date_str, time_str):\n",
        "    if pd.isna(date_str) or pd.isna(time_str):\n",
        "        return pd.NaT\n",
        "    try:\n",
        "        return pd.to_datetime(date_str + ' ' + time_str)\n",
        "    except:\n",
        "        return pd.to_datetime(date_str + ' ' + time_str, format='%d-%m-%Y %I.%M.%S %p')\n",
        "\n",
        "df['Request datetime'] = df.apply(lambda row: parse_time(row['Request timestamp'], row['Request timestamp.1']), axis=1)\n",
        "df['Drop datetime'] = df.apply(lambda row: parse_time(row['Drop timestamp'], row['Drop timestamp.1']), axis=1)\n",
        "\n",
        "\n",
        "# Drop the original timestamp columns\n",
        "cols_to_drop = ['Request timestamp', 'Drop timestamp', 'Request timestamp.1', 'Drop timestamp.1']\n",
        "df = df.drop([col for col in cols_to_drop if col in df.columns], axis=1)\n",
        "\n",
        "# Display the first few rows with the updated timestamp columns\n",
        "df.head()"
      ],
      "metadata": {
        "id": "wk-9a2fpoLcV"
      },
      "execution_count": null,
      "outputs": []
    },
    {
      "cell_type": "markdown",
      "source": [
        "### What all manipulations have you done and insights you found?"
      ],
      "metadata": {
        "id": "MSa1f5Uengrz"
      }
    },
    {
      "cell_type": "markdown",
      "source": [
        "**Data Manipulations:**\n",
        "\n",
        "Loaded the dataset: Imported the data from the CSV file into a pandas DataFrame.\n",
        "Handled Timestamps: Combined the separate date and time columns ('Request timestamp' and 'Request timestamp.1', 'Drop timestamp' and 'Drop timestamp.1') into single datetime columns ('Request timestamp', 'Drop timestamp'). This was done using a custom function to handle different time formats. The original, redundant timestamp columns were then dropped.\n",
        "\n",
        "**Insights Found:**\n",
        "\n",
        "High Rate of Uncompleted Trips: The initial analysis of the 'Status' column revealed a significant number of trips that were not completed. There are a large number of cancellations by drivers and instances where no cars were available.\n",
        "Data Quality Issues: The initial exploration of the data revealed inconsistencies in the timestamp columns, which required data wrangling to fix. There are also a significant number of missing values in the 'Driver id' and 'Drop timestamp' columns, which are likely related to the uncompleted trips.\n",
        "\n",
        "\n"
      ],
      "metadata": {
        "id": "LbyXE7I1olp8"
      }
    },
    {
      "cell_type": "markdown",
      "source": [
        "## ***4. Data Vizualization, Storytelling & Experimenting with charts : Understand the relationships between variables***"
      ],
      "metadata": {
        "id": "GF8Ens_Soomf"
      }
    },
    {
      "cell_type": "markdown",
      "source": [
        "#### Chart - 1"
      ],
      "metadata": {
        "id": "0wOQAZs5pc--"
      }
    },
    {
      "cell_type": "code",
      "source": [
        "# Chart - 1 visualization code\n",
        "plt.figure(figsize=(8, 6))\n",
        "sns.countplot(x='Status', data=df)\n",
        "plt.title('Distribution of Trip Status')\n",
        "plt.xlabel('Trip Status')\n",
        "plt.ylabel('Count')\n",
        "plt.show()"
      ],
      "metadata": {
        "id": "7v_ESjsspbW7"
      },
      "execution_count": null,
      "outputs": []
    },
    {
      "cell_type": "markdown",
      "source": [
        "##### 1. Why did you pick the specific chart?"
      ],
      "metadata": {
        "id": "K5QZ13OEpz2H"
      }
    },
    {
      "cell_type": "markdown",
      "source": [
        "The type of data you're visualizing: Is it categorical, numerical, or a combination of both? Different charts are good for different types of data.\n",
        "The story you're trying to tell: What is the main point you want to get across with the chart? Are you trying to show a comparison, a distribution, a relationship, or a composition?\n",
        "Why this chart is better than other options: Briefly explain why the chart you chose is the most effective way to communicate your message.\n",
        "For example, for the count plot of trip status, you could say:\n",
        "\n",
        "\"I chose a count plot because I wanted to show the distribution of a categorical variable, 'Status'. This chart makes it easy to see how many trips were completed, canceled, or unavailable, which is the first step in understanding the supply-demand gap. A pie chart could also have been used, but a bar chart is often easier to read and compare values.\"\n",
        "\n"
      ],
      "metadata": {
        "id": "XESiWehPqBRc"
      }
    },
    {
      "cell_type": "markdown",
      "source": [
        "##### 2. What is/are the insight(s) found from the chart?"
      ],
      "metadata": {
        "id": "lQ7QKXXCp7Bj"
      }
    },
    {
      "cell_type": "markdown",
      "source": [
        "The main insight from this chart is that there's a significant problem with unfulfilled ride requests. Here's a breakdown:\n",
        "\n",
        "High Number of \"No Cars Available\": This is the largest category after \"Trip Completed\". It means that a large number of customers are trying to get a ride, but there are no drivers available to pick them up. This points to a shortage of drivers in certain areas or at certain times.\n",
        "High Number of \"Cancelled\": This is also a significant category. It means that even when a driver accepts a request, they often cancel it. This could be due to a variety of reasons, such as the driver getting a better offer, the pickup location being too far away, or the driver not wanting to go to the drop-off location.\n",
        "Together, these two categories show a major imbalance between the demand for rides and the supply of drivers. This is a serious problem for Uber because it leads to a bad customer experience and lost revenue.\n",
        "\n"
      ],
      "metadata": {
        "id": "C_j1G7yiqdRP"
      }
    },
    {
      "cell_type": "markdown",
      "source": [
        "##### 3. Will the gained insights help creating a positive business impact?\n",
        "Are there any insights that lead to negative growth? Justify with specific reason."
      ],
      "metadata": {
        "id": "448CDAPjqfQr"
      }
    },
    {
      "cell_type": "markdown",
      "source": [
        "The insights we've gained can have a significant positive impact on the business. Here's how:\n",
        "\n",
        "Identifying the Core Problem: The data clearly shows that the main problem is the high number of unfulfilled requests (\"No Cars Available\" and \"Cancelled\"). This is a crucial first step. You can't solve a problem until you know what it is.\n",
        "Targeted Solutions: Now that we know the problem, we can start to look for solutions. For example, if we see that there are a lot of \"No Cars Available\" requests in a certain area at a certain time, Uber can offer incentives to drivers to go to that area. If we see that a lot of drivers are canceling trips, we can investigate why and try to address their concerns.\n",
        "Improved Customer Experience: By reducing the number of unfulfilled requests, we can make customers happier. This will lead to more repeat business and a better reputation for Uber.\n",
        "Increased Revenue: Every completed trip is revenue for Uber. By reducing the number of unfulfilled requests, we can increase the number of completed trips and, therefore, increase revenue.\n",
        "In short, the insights we've gained allow us to move from simply knowing that there's a problem to understanding the nature of the problem and developing targeted solutions to fix it.\n",
        "\n"
      ],
      "metadata": {
        "id": "3cspy4FjqxJW"
      }
    },
    {
      "cell_type": "markdown",
      "source": [
        "#### Chart - 2"
      ],
      "metadata": {
        "id": "KSlN3yHqYklG"
      }
    },
    {
      "cell_type": "code",
      "source": [
        "# Chart - 2 visualization code\n",
        "plt.figure(figsize=(10, 6))\n",
        "sns.countplot(x='Pickup point', hue='Status', data=df)\n",
        "plt.title('Trip Status by Pickup Point')\n",
        "plt.xlabel('Pickup Point')\n",
        "plt.ylabel('Count')\n",
        "plt.show()"
      ],
      "metadata": {
        "id": "R4YgtaqtYklH"
      },
      "execution_count": null,
      "outputs": []
    },
    {
      "cell_type": "markdown",
      "source": [
        "##### 1. Why did you pick the specific chart?"
      ],
      "metadata": {
        "id": "t6dVpIINYklI"
      }
    },
    {
      "cell_type": "markdown",
      "source": [
        "I chose a grouped bar chart to compare the trip status across different pickup points (Airport and City). This chart makes it easy to see the distribution of completed, canceled, and unavailable trips for each location, allowing for a direct comparison. This helps us to identify if the supply-demand gap is more pronounced in one location over the other.\n",
        "\n"
      ],
      "metadata": {
        "id": "5aaW0BYyYklI"
      }
    },
    {
      "cell_type": "markdown",
      "source": [
        "##### 2. What is/are the insight(s) found from the chart?"
      ],
      "metadata": {
        "id": "ijmpgYnKYklI"
      }
    },
    {
      "cell_type": "markdown",
      "source": [
        "The chart reveals a fundamental difference in the nature of the supply-demand problem between the two locations. At the airport, the issue is primarily a lack of supply. There simply aren't enough drivers to meet the demand. In the city, however, the problem is more about supply inefficiency. While there are more drivers available, a significant portion of them are canceling trips, which suggests there are other factors at play, such as trip distance, destination, or traffic. This distinction is crucial because it suggests that different solutions are needed for each location.\n",
        "\n"
      ],
      "metadata": {
        "id": "PSx9atu2YklI"
      }
    },
    {
      "cell_type": "markdown",
      "source": [
        "##### 3. Will the gained insights help creating a positive business impact?\n",
        "Are there any insights that lead to negative growth? Justify with specific reason."
      ],
      "metadata": {
        "id": "-JiQyfWJYklI"
      }
    },
    {
      "cell_type": "markdown",
      "source": [
        "Targeted Solutions: By understanding that the problem at the airport is a lack of drivers, Uber can implement targeted incentives to encourage more drivers to go to the airport, such as offering bonuses for airport pickups. For the city, where the problem is cancellations, Uber can investigate the reasons for cancellations and address them. For example, they could provide drivers with more information about a trip before they accept it, or they could penalize drivers for excessive cancellations.\n",
        "Improved Customer Experience: By addressing the specific issues in each location, Uber can improve the customer experience. At the airport, customers will have to wait less time for a car. In the city, customers will experience fewer cancellations.\n",
        "Increased Revenue: By increasing the number of completed trips in both locations, Uber can increase its revenue.\n",
        "In short, by understanding the nuances of the supply-demand problem in different locations, Uber can develop more effective and targeted solutions, which will lead to a better customer experience and increased revenue.\n",
        "\n",
        "\n",
        "\n",
        "\n",
        " The insights that point to negative growth are the high numbers of \"Cancelled\" trips and \"No Cars Available\". Here's the justification:\n",
        "\n",
        "Lost Revenue: Every time a trip is cancelled or a car is unavailable, Uber loses out on the revenue it would have earned from that trip. This has a direct and immediate negative impact on the company's bottom line.\n",
        "Poor Customer Experience: When a customer's request is cancelled or they can't get a car, it creates a frustrating and negative experience. This can lead to them choosing a competitor for their next ride, resulting in customer churn and a loss of future revenue.\n",
        "Damaged Brand Reputation: If customers consistently have a bad experience with Uber, it will damage the company's brand reputation. This can make it harder to attract new customers and retain existing ones, leading to long-term negative growth.\n",
        "In essence, the high number of unfulfilled requests is a clear indicator of a problem that is actively harming the business and preventing it from growing.\n",
        "\n"
      ],
      "metadata": {
        "id": "BcBbebzrYklV"
      }
    },
    {
      "cell_type": "markdown",
      "source": [
        "#### Chart - 3"
      ],
      "metadata": {
        "id": "EM7whBJCYoAo"
      }
    },
    {
      "cell_type": "code",
      "source": [
        "# Chart - 3 visualization code\n",
        "plt.figure(figsize=(10, 6))\n",
        "sns.countplot(x='Driver id', hue='Status', data=df)\n",
        "plt.title('Trip Status by Driver')\n",
        "plt.xlabel('Driver ID')\n",
        "plt.ylabel('Count')\n",
        "plt.show()"
      ],
      "metadata": {
        "id": "t6GMdE67YoAp"
      },
      "execution_count": null,
      "outputs": []
    },
    {
      "cell_type": "markdown",
      "source": [
        "##### 1. Why did you pick the specific chart?"
      ],
      "metadata": {
        "id": "fge-S5ZAYoAp"
      }
    },
    {
      "cell_type": "markdown",
      "source": [
        "Comparing a Categorical Variable Across Different Groups: Our main goal here is to compare the Status of trips (a categorical variable with three levels: \"Trip Completed\", \"Cancelled\", \"No Cars Available\") across two different Pickup point groups (\"Airport\" and \"City\"). A grouped bar chart is specifically designed for this purpose. It allows us to place the bars for each status side-by-side for each pickup point, making the comparison direct and intuitive.\n",
        "Clear Visual Comparison: The grouped nature of the chart makes it very easy to visually compare the counts of each status between the Airport and the City. For example, you can immediately see that the green bar (\"No Cars Available\") is much taller for the Airport than for the City, while the orange bar (\"Cancelled\") is much taller for the City. This kind of direct visual comparison would be much harder with other chart types, like stacked bar charts or pie charts.\n",
        "Alternative Charts and Why They Are Less Suitable:\n",
        "Stacked Bar Chart: A stacked bar chart would show the proportion of each status within each pickup point, but it would be difficult to compare the absolute number of, say, \"Cancelled\" trips between the Airport and the City.\n",
        "Pie Charts: We could create two separate pie charts, one for the Airport and one for the City. However, it's well-known that humans are not very good at comparing angles in pie charts, so it would be difficult to accurately compare the proportions of each status between the two locations. Also, pie charts don't show the absolute numbers, only the proportions.\n",
        "Separate Bar Charts: We could create two separate bar charts, but placing them side-by-side in a single grouped bar chart makes the comparison more direct and efficient.\n",
        "In summary, the grouped bar chart is the most effective choice because it directly supports our analytical goal of comparing the distribution of a categorical variable across different groups, and it does so in a way that is clear, intuitive, and visually effective.\n",
        "\n"
      ],
      "metadata": {
        "id": "5dBItgRVYoAp"
      }
    },
    {
      "cell_type": "markdown",
      "source": [
        "##### 2. What is/are the insight(s) found from the chart?"
      ],
      "metadata": {
        "id": "85gYPyotYoAp"
      }
    },
    {
      "cell_type": "markdown",
      "source": [
        "Too Many Drivers: The chart is trying to show the trip status for every single driver. Since there are hundreds of drivers, the bars are all squished together, making it impossible to read the driver IDs or see any clear patterns.\n",
        "\"No Cars Available\" is Not Linked to a Driver: The \"No Cars Available\" status isn't associated with a specific driver, so including it in this chart is a bit misleading.\n",
        "Because of these issues, it's very difficult to draw any meaningful conclusions from this chart. It might be more useful to look at the top N drivers with the most completed trips or the most cancellations, or to group the drivers in some way.\n",
        "\n",
        "What can I help you build?\n",
        "0 / 2000\n",
        "Gemini can make mistakes so double-check it and u"
      ],
      "metadata": {
        "id": "4jstXR6OYoAp"
      }
    },
    {
      "cell_type": "markdown",
      "source": [
        "##### 3. Will the gained insights help creating a positive business impact?\n",
        "Are there any insights that lead to negative growth? Justify with specific reason."
      ],
      "metadata": {
        "id": "RoGjAbkUYoAp"
      }
    },
    {
      "cell_type": "markdown",
      "source": [
        "the chart showing the trip status by driver is not very clear or insightful in its current form, we can't really gain any insights from it that would help create a positive business impact. To get to a point where we can have a positive business impact, we would need to modify the chart to show more meaningful information. For example, we could:\n",
        "\n",
        "Show the top 10 drivers with the most completed trips.\n",
        "Show the top 10 drivers with the most cancelled trips.\n",
        "Group the drivers by some other characteristic, such as the area they typically work in.\n",
        "By doing this, we might be able to identify high-performing drivers that we can reward, or low-performing drivers that we can offer additional training or support to.\n",
        "\n",
        "\n",
        "\n",
        "**Yes we get negative growth too .....\n",
        "\n",
        "the chart showing the trip status by driver is not very clear or insightful in its current form, we can't really gain any insights from it that would help create a positive business impact. To get to a point where we can have a positive business impact, we would need to modify the chart to show more meaningful information. For example, we could:\n",
        "\n",
        "Show the top 10 drivers with the most completed trips.\n",
        "Show the top 10 drivers with the most cancelled trips.\n",
        "Group the drivers by some other characteristic, such as the area they typically work in.\n",
        "By doing this, we might be able to identify high-performing drivers that we can reward, or low-performing drivers that we can offer additional training or support to.\n",
        "\n"
      ],
      "metadata": {
        "id": "zfJ8IqMcYoAp"
      }
    },
    {
      "cell_type": "markdown",
      "source": [
        "#### Chart - 4"
      ],
      "metadata": {
        "id": "4Of9eVA-YrdM"
      }
    },
    {
      "cell_type": "code",
      "source": [
        "df['request_hour'] = df['Request datetime'].dt.hour\n",
        "plt.figure(figsize=(12, 6))\n",
        "sns.countplot(x='request_hour', data=df)\n",
        "plt.title('Number of Uber Requests per Hour')\n",
        "plt.xlabel('Hour of the Day')\n",
        "plt.ylabel('Number of Requests')\n",
        "plt.show()"
      ],
      "metadata": {
        "id": "irlUoxc8YrdO",
        "collapsed": true
      },
      "execution_count": null,
      "outputs": []
    },
    {
      "cell_type": "markdown",
      "source": [
        "##### 1. Why did you pick the specific chart?"
      ],
      "metadata": {
        "id": "iky9q4vBYrdO"
      }
    },
    {
      "cell_type": "markdown",
      "source": [
        "I chose a count plot to visualize the number of Uber requests per hour because it's a very effective way to show the distribution of a discrete variable, in this case, the hour of the day. The height of each bar represents the total number of requests made during that hour, making it very easy to see which hours have the highest and lowest demand. This allows us to quickly identify the peak hours for Uber requests, which is a crucial piece of information for understanding the supply-demand gap.\n",
        "\n"
      ],
      "metadata": {
        "id": "aJRCwT6DYrdO"
      }
    },
    {
      "cell_type": "markdown",
      "source": [
        "##### 2. What is/are the insight(s) found from the chart?"
      ],
      "metadata": {
        "id": "F6T5p64dYrdO"
      }
    },
    {
      "cell_type": "markdown",
      "source": [
        "The chart reveals a clear bimodal distribution of demand for Uber rides throughout the day. This means that there are two distinct periods of high demand, separated by a period of lower demand. This pattern is likely driven by the daily routines of a large portion of the population, specifically the morning and evening commutes. Understanding this bimodal distribution is crucial for Uber because it means that they need to be able to scale their supply of drivers up and down to meet these predictable peaks and troughs in demand. If they can't, they will either have a surplus of drivers during off-peak hours or a shortage of drivers during peak hours, both of which are bad for business.\n",
        "\n",
        "What can I help you build?\n",
        "0 / 2000\n",
        "Gemini can make mistakes so double-check it and use code with cautio"
      ],
      "metadata": {
        "id": "Xx8WAJvtYrdO"
      }
    },
    {
      "cell_type": "markdown",
      "source": [
        "##### 3. Will the gained insights help creating a positive business impact?\n",
        "Are there any insights that lead to negative growth? Justify with specific reason."
      ],
      "metadata": {
        "id": "y-Ehk30pYrdP"
      }
    },
    {
      "cell_type": "markdown",
      "source": [
        " in the chart, can have a significant positive impact on the business. Here's a theoretical explanation of how:\n",
        "\n",
        "Optimized Resource Allocation: By knowing when the peak demand hours are, Uber can more effectively allocate its resources (i.e., drivers). They can use this information to create incentives for drivers to be on the road during these high-demand periods, ensuring that there are enough cars available to meet customer needs. This leads to a more efficient use of their driver network.\n",
        "Improved Customer Satisfaction: When a customer requests a ride during a peak hour and is able to get one quickly, their satisfaction with the service increases. By understanding the demand patterns, Uber can work to ensure that this is the case more often than not. This leads to a better customer experience and increased customer loyalty.\n",
        "Increased Revenue: A more efficient allocation of drivers and higher customer satisfaction will naturally lead to an increase in the number of completed trips. This, in turn, will lead to an increase in revenue for Uber.\n",
        "Proactive vs. Reactive: By understanding the predictable nature of the demand, Uber can move from a reactive model (i.e., responding to surges in demand as they happen) to a more proactive model (i.e., anticipating surges in demand and preparing for them in advance). This allows for a more stable and reliable service.\n",
        "In essence, by understanding the rhythm of the city as reflected in the ride request data, Uber can fine-tune its operations to be more efficient, more customer-friendly, and more profitable.\n",
        "\n",
        "\n",
        "\n",
        "\n",
        "\n",
        "\n",
        "\n",
        "The chart shows us that there are predictable peak hours of demand. If Uber is unable to meet this demand, it will lead to a negative customer experience. Customers who are unable to get a ride during these peak hours will be frustrated and may turn to other ride-sharing services. This can lead to:\n",
        "\n",
        "Customer Churn: Losing existing customers to competitors.\n",
        "Negative Word-of-Mouth: Unhappy customers are likely to share their negative experiences with others, which can damage Uber's reputation and make it harder to attract new customers.\n",
        "Lost Revenue: Every unmet request is a loss of potential revenue.\n",
        "So, while the chart itself is just a representation of demand, it's a clear warning sign. If Uber doesn't have a strategy to meet the demand during these peak hours, it will inevitably lead to negative growth.\n",
        "\n",
        "\n",
        "\n",
        "\n"
      ],
      "metadata": {
        "id": "jLNxxz7MYrdP"
      }
    },
    {
      "cell_type": "markdown",
      "source": [
        "#### Chart - 5"
      ],
      "metadata": {
        "id": "bamQiAODYuh1"
      }
    },
    {
      "cell_type": "code",
      "source": [
        "# Chart - 5 visualization code\n",
        "plt.figure(figsize=(12, 6))\n",
        "sns.countplot(x='request_hour', hue='Status', data=df)\n",
        "plt.title('Trip Status by Hour of the Day')\n",
        "plt.xlabel('Hour of the Day')\n",
        "plt.ylabel('Number of Requests')\n",
        "plt.show()"
      ],
      "metadata": {
        "id": "TIJwrbroYuh3"
      },
      "execution_count": null,
      "outputs": []
    },
    {
      "cell_type": "markdown",
      "source": [
        "##### 1. Why did you pick the specific chart?"
      ],
      "metadata": {
        "id": "QHF8YVU7Yuh3"
      }
    },
    {
      "cell_type": "markdown",
      "source": [],
      "metadata": {
        "id": "dcxuIMRPYuh3"
      }
    },
    {
      "cell_type": "markdown",
      "metadata": {
        "id": "DNPeipNG1eRf"
      },
      "source": [
        "A grouped bar chart is the ideal choice here for a few key theoretical reasons:\n",
        "\n",
        "*   **Comparing a Categorical Variable Across Different Groups:** Our main goal is to compare the `Status` of trips (a categorical variable with three levels: \"Trip Completed\", \"Cancelled\", and \"No Cars Available\") across different hours of the day (a discrete numerical variable that we are treating as categories). A grouped bar chart is specifically designed for this purpose. It allows us to place the bars for each status side-by-side for each hour, making the comparison direct and intuitive.\n",
        "\n",
        "*   **Clear Visual Comparison:** The grouped nature of the chart makes it very easy to visually compare the counts of each status for a given hour and also to see how these counts change across the day. For example, you can immediately see that the green bar (\"No Cars Available\") is much taller in the evening hours, while the orange bar (\"Cancelled\") is more prominent in the morning. This kind of direct visual comparison would be much harder with other chart types.\n",
        "\n",
        "*   **Alternative Charts and Why They Are Less Suitable:**\n",
        "    *   **Stacked Bar Chart:** A stacked bar chart would show the proportion of each status within each hour, but it would be difficult to compare the absolute number of, say, \"Cancelled\" trips between 8 AM and 9 AM.\n",
        "    *   **Line Chart:** A line chart could be used to show the trend of each status over time, but it would be less effective at showing the absolute number of requests for each status at each hour.\n",
        "    *   **Pie Charts:** We could create 24 separate pie charts, one for each hour. However, it's well-known that humans are not very good at comparing angles in pie charts, so it would be difficult to accurately compare the proportions of each status between different hours. Also, pie charts don't show the absolute numbers, only the proportions.\n",
        "\n",
        "In summary, the grouped bar chart is the most effective choice because it directly supports our analytical goal of comparing the distribution of a categorical variable across different groups, and it does so in a way that is clear, intuitive, and visually effective."
      ]
    },
    {
      "cell_type": "markdown",
      "metadata": {
        "id": "sLb4QF7Y1aj-"
      },
      "source": [
        "A grouped bar chart is the ideal choice here for a few key theoretical reasons:\n",
        "\n",
        "*   **Comparing a Categorical Variable Across Different Groups:** Our main goal is to compare the `Status` of trips (a categorical variable with three levels: \"Trip Completed\", \"Cancelled\", and \"No Cars Available\") across different hours of the day (a discrete numerical variable that we are treating as categories). A grouped bar chart is specifically designed for this purpose. It allows us to place the bars for each status side-by-side for each hour, making the comparison direct and intuitive.\n",
        "\n",
        "*   **Clear Visual Comparison:** The grouped nature of the chart makes it very easy to visually compare the counts of each status for a given hour and also to see how these counts change across the day. For example, you can immediately see that the green bar (\"No Cars Available\") is much taller in the evening hours, while the orange bar (\"Cancelled\") is more prominent in the morning. This kind of direct visual comparison would be much harder with other chart types.\n",
        "\n",
        "*   **Alternative Charts and Why They Are Less Suitable:**\n",
        "    *   **Stacked Bar Chart:** A stacked bar chart would show the proportion of each status within each hour, but it would be difficult to compare the absolute number of, say, \"Cancelled\" trips between 8 AM and 9 AM.\n",
        "    *   **Line Chart:** A line chart could be used to show the trend of each status over time, but it would be less effective at showing the absolute number of requests for each status at each hour.\n",
        "    *   **Pie Charts:** We could create 24 separate pie charts, one for each hour. However, it's well-known that humans are not very good at comparing angles in pie charts, so it would be difficult to accurately compare the proportions of each status between different hours. Also, pie charts don't show the absolute numbers, only the proportions.\n",
        "\n",
        "In summary, the grouped bar chart is the most effective choice because it directly supports our analytical goal of comparing the distribution of a categorical variable across different groups, and it does so in a way that is clear, intuitive, and visually effective."
      ]
    },
    {
      "cell_type": "markdown",
      "source": [
        "##### 2. What is/are the insight(s) found from the chart?"
      ],
      "metadata": {
        "id": "GwzvFGzlYuh3"
      }
    },
    {
      "cell_type": "markdown",
      "source": [
        "A correlation heatmap is a graphical representation of data where the individual values contained in a matrix are represented as colors. In this case, the heatmap shows the correlation between the numerical columns in your dataset.\n",
        "\n",
        "Here are the insights from this chart:\n",
        "\n",
        "Weak Positive Correlation: There's a weak positive correlation (0.011) between request_hour and Request id. This is expected since the Request id likely increases as the day progresses.\n",
        "Very Weak Negative Correlation: There's a very weak negative correlation (-0.011) between Driver id and request_hour. This might suggest some drivers are less active during certain hours, but the correlation is too weak to be significant.\n",
        "No Strong Correlations: Overall, the heatmap shows no strong correlations between the numerical variables in your dataset.\n",
        "This lack of strong correlation suggests that you'll need to look at the relationships between your categorical variables (like Status and Pickup point) and your numerical variables to find more meaningful insights.\n",
        "\n"
      ],
      "metadata": {
        "id": "uyqkiB8YYuh3"
      }
    },
    {
      "cell_type": "markdown",
      "source": [
        "##### 3. Will the gained insights help creating a positive business impact?\n",
        "Are there any insights that lead to negative growth? Justify with specific reason."
      ],
      "metadata": {
        "id": "qYpmQ266Yuh3"
      }
    },
    {
      "cell_type": "markdown",
      "source": [
        "Answer Here"
      ],
      "metadata": {
        "id": "_WtzZ_hCYuh4"
      }
    },
    {
      "cell_type": "markdown",
      "metadata": {
        "id": "whOldyTL2b2P"
      },
      "source": [
        "The chart reveals a clear bimodal distribution of demand for Uber rides throughout the day. This means that there are two distinct periods of high demand, separated by a period of lower demand. This pattern is likely driven by the daily routines of a large portion of the population, specifically the morning and evening commutes. Understanding this bimodal distribution is crucial for Uber because it means that they need to be able to scale their supply of drivers up and down to meet these predictable peaks and troughs in demand. If they can't, they will either have a surplus of drivers during off-peak hours or a shortage of drivers during peak hours, both of which are bad for business.\n",
        "\n",
        "\n",
        "\n",
        "\n",
        "\n",
        "The chart shows us that there are predictable peak hours of demand. If Uber is unable to meet this demand, it will lead to a negative customer experience. Customers who are unable to get a ride during these peak hours will be frustrated and may turn to other ride-sharing services. This can lead to:\n",
        "\n",
        "Customer Churn: Losing existing customers to competitors.\n",
        "Negative Word-of-Mouth: Unhappy customers are likely to share their negative experiences with others, which can damage Uber's reputation and make it harder to attract new customers.\n",
        "Lost Revenue: Every unmet request is a loss of potential revenue.\n",
        "So, while the chart itself is just a representation of demand, it's a clear warning sign. If Uber doesn't have a strategy to meet the demand during these peak hours, it will inevitably lead to negative growth.\n",
        "\n",
        "Colab"
      ]
    },
    {
      "cell_type": "markdown",
      "source": [
        "#### Chart - 6"
      ],
      "metadata": {
        "id": "OH-pJp9IphqM"
      }
    },
    {
      "cell_type": "code",
      "source": [
        "# Chart - 6 visualization code\n",
        "df['request_hour'] = df['Request datetime'].dt.hour\n",
        "plt.figure(figsize=(15, 6))\n",
        "sns.catplot(x='request_hour', hue='Status', col='Pickup point', data=df, kind='count')\n",
        "plt.suptitle('Trip Status by Pickup Point and Hour of the Day', y=1.05)\n",
        "plt.show()"
      ],
      "metadata": {
        "id": "kuRf4wtuphqN"
      },
      "execution_count": null,
      "outputs": []
    },
    {
      "cell_type": "markdown",
      "source": [
        "##### 1. Why did you pick the specific chart?"
      ],
      "metadata": {
        "id": "bbFf2-_FphqN"
      }
    },
    {
      "cell_type": "markdown",
      "source": [
        "I chose a catplot with kind='count' to create a faceted bar chart. This allows us to see the distribution of trip statuses for each hour of the day, separated by pickup point. This is a very effective way to compare the supply-demand gap at the airport and in the city.\n",
        "\n",
        "\n"
      ],
      "metadata": {
        "id": "loh7H2nzphqN"
      }
    },
    {
      "cell_type": "markdown",
      "source": [
        "##### 2. What is/are the insight(s) found from the chart?"
      ],
      "metadata": {
        "id": "_ouA3fa0phqN"
      }
    },
    {
      "cell_type": "markdown",
      "source": [
        "The chart reveals that the \"No Cars Available\" status is a major problem at the airport, especially during the evening peak hours. This is likely because there are not enough drivers who are willing to go to the airport to pick up passengers. In the city, the main problem is \"Cancelled\" trips, which are most common during the morning peak hours. This could be because drivers are more selective with their trips during the morning rush hour, or because they are trying to avoid traffic."
      ],
      "metadata": {
        "id": "VECbqPI7phqN"
      }
    },
    {
      "cell_type": "markdown",
      "source": [
        "##### 3. Will the gained insights help creating a positive business impact?\n",
        "Are there any insights that lead to negative growth? Justify with specific reason."
      ],
      "metadata": {
        "id": "Seke61FWphqN"
      }
    },
    {
      "cell_type": "markdown",
      "source": [
        "Identifying the Core Problem: The data clearly shows that the main problem is the high number of unfulfilled requests (\"No Cars Available\" and \"Cancelled\"). This is a crucial first step. You can't solve a problem until you know what it is.\n",
        "Targeted Solutions: Now that we know the problem, we can start to look for solutions. For example, if we see that there are a lot of \"No Cars Available\" requests in a certain area at a certain time, Uber can offer incentives to drivers to go to that area. If we see that a lot of drivers are canceling trips, we can investigate why and try to address their concerns.\n",
        "Improved Customer Experience: By reducing the number of unfulfilled requests, we can make customers happier. This will lead to more repeat business and a better reputation for Uber.\n",
        "Increased Revenue: Every completed trip is revenue for Uber. By reducing the number of unfulfilled requests, we can increase the number of completed trips and, therefore, increase revenue.\n",
        "In short, the insights we've gained allow us to move from simply knowing that there's a problem to understanding the nature of the problem and developing targeted solutions to fix it.\n",
        "\n",
        "\n",
        "**Yes there is negative growth**\n",
        "the insights that point to negative growth are the high numbers of \"Cancelled\" trips and \"No Cars Available\". Here's the justification:\n",
        "\n",
        "Lost Revenue: Every time a trip is cancelled or a car is unavailable, Uber loses out on the revenue it would have earned from that trip. This has a direct and immediate negative impact on the company's bottom line.\n",
        "Poor Customer Experience: When a customer's request is cancelled or they can't get a car, it creates a frustrating and negative experience. This can lead to them choosing a competitor for their next ride, resulting in customer churn and a loss of future revenue.\n",
        "Damaged Brand Reputation: If customers consistently have a bad experience with Uber, it will damage the company's brand reputation. This can make it harder to attract new customers and retain existing ones, leading to long-term negative growth.\n",
        "In essence, the high number of unfulfilled requests is a clear indicator of a problem that is actively harming the business and preventing it from growing.\n",
        "\n",
        "\n"
      ],
      "metadata": {
        "id": "DW4_bGpfphqN"
      }
    },
    {
      "cell_type": "markdown",
      "source": [
        "#### Chart - 7"
      ],
      "metadata": {
        "id": "PIIx-8_IphqN"
      }
    },
    {
      "cell_type": "code",
      "source": [
        "# Chart - 7 visualization code\n",
        "def get_time_slot(hour):\n",
        "    if 5 <= hour < 12:\n",
        "        return 'Morning'\n",
        "    elif 12 <= hour < 17:\n",
        "        return 'Afternoon'\n",
        "    elif 17 <= hour < 22:\n",
        "        return 'Evening'\n",
        "    else:\n",
        "        return 'Night'\n",
        "\n",
        "df['time_slot'] = df['request_hour'].apply(get_time_slot)\n",
        "\n",
        "plt.figure(figsize=(10, 6))\n",
        "sns.countplot(x='time_slot', data=df)\n",
        "plt.title('Number of Uber Requests per Time Slot')\n",
        "plt.xlabel('Time Slot')\n",
        "plt.ylabel('Number of Requests')\n",
        "plt.show()"
      ],
      "metadata": {
        "id": "lqAIGUfyphqO"
      },
      "execution_count": null,
      "outputs": []
    },
    {
      "cell_type": "markdown",
      "source": [
        "##### 1. Why did you pick the specific chart?"
      ],
      "metadata": {
        "id": "t27r6nlMphqO"
      }
    },
    {
      "cell_type": "markdown",
      "source": [
        "I chose a count plot to visualize the number of Uber requests per time slot because it's a very effective way to show the distribution of a categorical variable, in this case, the time slot. The height of each bar represents the total number of requests made during that time slot, making it very easy to see which time slots have the highest and lowest demand.\n",
        "\n"
      ],
      "metadata": {
        "id": "iv6ro40sphqO"
      }
    },
    {
      "cell_type": "markdown",
      "source": [
        "##### 2. What is/are the insight(s) found from the chart?"
      ],
      "metadata": {
        "id": "r2jJGEOYphqO"
      }
    },
    {
      "cell_type": "markdown",
      "source": [
        "The chart reveals that the \"Morning\" and \"Evening\" time slots have the highest demand for Uber rides. This is consistent with the bimodal distribution of demand that we saw in the hourly chart. The \"Afternoon\" and \"Night\" time slots have lower demand."
      ],
      "metadata": {
        "id": "Po6ZPi4hphqO"
      }
    },
    {
      "cell_type": "markdown",
      "source": [
        "##### 3. Will the gained insights help creating a positive business impact?\n",
        "Are there any insights that lead to negative growth? Justify with specific reason."
      ],
      "metadata": {
        "id": "b0JNsNcRphqO"
      }
    },
    {
      "cell_type": "markdown",
      "source": [
        "The insights we've gained can have a significant positive impact on the business. Here's how:\n",
        "\n",
        "Identifying the Core Problem: The data clearly shows that the main problem is the high number of unfulfilled requests (\"No Cars Available\" and \"Cancelled\"). This is a crucial first step. You can't solve a problem until you know what it is.\n",
        "Targeted Solutions: Now that we know the problem, we can start to look for solutions. For example, if we see that there are a lot of \"No Cars Available\" requests in a certain area at a certain time, Uber can offer incentives to drivers to go to that area. If we see that a lot of drivers are canceling trips, we can investigate why and try to address their concerns.\n",
        "Improved Customer Experience: By reducing the number of unfulfilled requests, we can make customers happier. This will lead to more repeat business and a better reputation for Uber.\n",
        "Increased Revenue: Every completed trip is revenue for Uber. By reducing the number of unfulfilled requests, we can increase the number of completed trips and, therefore, increase revenue.\n",
        "In short, the insights we've gained allow us to move from simply knowing that there's a problem to understanding the nature of the problem and developing targeted solutions to fix it.\n",
        "\n"
      ],
      "metadata": {
        "id": "xvSq8iUTphqO"
      }
    },
    {
      "cell_type": "markdown",
      "source": [
        "#### Chart - 8"
      ],
      "metadata": {
        "id": "BZR9WyysphqO"
      }
    },
    {
      "cell_type": "code",
      "source": [
        "# Chart - 8 visualization code\n",
        "plt.figure(figsize=(10, 6))\n",
        "sns.countplot(x='time_slot', hue='Status', data=df)\n",
        "plt.title('Trip Status by Time Slot')\n",
        "plt.xlabel('Time Slot')\n",
        "plt.ylabel('Count')"
      ],
      "metadata": {
        "id": "TdPTWpAVphqO"
      },
      "execution_count": null,
      "outputs": []
    },
    {
      "cell_type": "markdown",
      "source": [
        "##### 1. Why did you pick the specific chart?"
      ],
      "metadata": {
        "id": "jj7wYXLtphqO"
      }
    },
    {
      "cell_type": "markdown",
      "source": [
        "I chose a grouped bar chart to visualize the trip status by time slot because it allows for a direct comparison of the number of completed, cancelled, and unavailable trips in each time slot. This helps us to see how the supply-demand gap changes throughout the day."
      ],
      "metadata": {
        "id": "Ob8u6rCTphqO"
      }
    },
    {
      "cell_type": "markdown",
      "source": [
        "##### 2. What is/are the insight(s) found from the chart?"
      ],
      "metadata": {
        "id": "eZrbJ2SmphqO"
      }
    },
    {
      "cell_type": "markdown",
      "source": [
        "The chart reveals that the \"No Cars Available\" status is most prominent during the evening, while \"Cancelled\" trips are most common in the morning. This is consistent with what we saw in the hourly chart."
      ],
      "metadata": {
        "id": "mZtgC_hjphqO"
      }
    },
    {
      "cell_type": "markdown",
      "source": [
        "##### 3. Will the gained insights help creating a positive business impact?\n",
        "Are there any insights that lead to negative growth? Justify with specific reason."
      ],
      "metadata": {
        "id": "rFu4xreNphqO"
      }
    },
    {
      "cell_type": "markdown",
      "source": [
        "These insights can help Uber to develop targeted solutions to address the supply-demand gap at different times of the day. For example, they could offer incentives to drivers to be on the road during the evening peak hours, and they could investigate the reasons for the high number of cancellations during the morning peak hours. By addressing these issues, Uber can improve the customer experience and increase revenue.\n",
        "\n",
        "** There are negative growth**\n",
        "\n",
        "The insights that point to negative growth are the high numbers of \"Cancelled\" trips and \"No Cars Available\". Here's the justification:\n",
        "\n",
        "Lost Revenue: Every time a trip is cancelled or a car is unavailable, Uber loses out on the revenue it would have earned from that trip. This has a direct and immediate negative impact on the company's bottom line.\n",
        "Poor Customer Experience: When a customer's request is cancelled or they can't get a car, it creates a frustrating and negative experience. This can lead to them choosing a competitor for their next ride, resulting in customer churn and a loss of future revenue.\n",
        "Damaged Brand Reputation: If customers consistently have a bad experience with Uber, it will damage the company's brand reputation. This can make it harder to attract new customers and retain existing ones, leading to long-term negative growth.\n",
        "In essence, the high number of unfulfilled requests is a clear indicator of a problem that is actively harming the business and preventing it from growing."
      ],
      "metadata": {
        "id": "ey_0qi68phqO"
      }
    },
    {
      "cell_type": "markdown",
      "source": [
        "#### Chart - 9"
      ],
      "metadata": {
        "id": "YJ55k-q6phqO"
      }
    },
    {
      "cell_type": "code",
      "source": [
        "# Chart - 9 visualization code\n",
        "plt.figure(figsize=(10, 6))\n",
        "sns.countplot(x='time_slot', hue='Pickup point', data=df)\n",
        "plt.title('Trip Status by Time Slot and Pickup Point')\n",
        "plt.xlabel('Time Slot')\n",
        "plt.ylabel('Count')"
      ],
      "metadata": {
        "id": "B2aS4O1ophqO",
        "collapsed": true
      },
      "execution_count": null,
      "outputs": []
    },
    {
      "cell_type": "markdown",
      "source": [
        "##### 1. Why did you pick the specific chart?"
      ],
      "metadata": {
        "id": "gCFgpxoyphqP"
      }
    },
    {
      "cell_type": "markdown",
      "source": [
        "I chose a grouped bar chart to visualize the number of requests per time slot, broken down by pickup point. This allows for a direct comparison of the demand at the airport and in the city at different times of the day."
      ],
      "metadata": {
        "id": "TVxDimi2phqP"
      }
    },
    {
      "cell_type": "markdown",
      "source": [
        "##### 2. What is/are the insight(s) found from the chart?"
      ],
      "metadata": {
        "id": "OVtJsKN_phqQ"
      }
    },
    {
      "cell_type": "markdown",
      "source": [
        "The chart reveals that the demand for Uber rides is higher in the city than at the airport across all time slots. The demand in the city is highest in the morning and evening, while the demand at the airport is highest in the evening."
      ],
      "metadata": {
        "id": "ngGi97qjphqQ"
      }
    },
    {
      "cell_type": "markdown",
      "source": [
        "##### 3. Will the gained insights help creating a positive business impact?\n",
        "Are there any insights that lead to negative growth? Justify with specific reason."
      ],
      "metadata": {
        "id": "lssrdh5qphqQ"
      }
    },
    {
      "cell_type": "markdown",
      "source": [
        "This insight can help Uber to allocate its resources more effectively. For example, they can ensure that there are more drivers available in the city during the morning and evening peak hours, and more drivers available at the airport during the evening peak hours.\n",
        "\n",
        "\n",
        "Yes, the insights that point to negative growth are the high numbers of \"Cancelled\" trips and \"No Cars Available\". Here's the justification:\n",
        "\n",
        "Lost Revenue: Every time a trip is cancelled or a car is unavailable, Uber loses out on the revenue it would have earned from that trip. This has a direct and immediate negative impact on the company's bottom line.\n",
        "Poor Customer Experience: When a customer's request is cancelled or they can't get a car, it creates a frustrating and negative experience. This can lead to them choosing a competitor for their next ride, resulting in customer churn and a loss of future revenue.\n",
        "Damaged Brand Reputation: If customers consistently have a bad experience with Uber, it will damage the company's brand reputation. This can make it harder to attract new customers and retain existing ones, leading to long-term negative growth.\n",
        "In essence, the high number of unfulfilled requests is a clear indicator of a problem that is actively harming the business and preventing it from growing.\n",
        "\n",
        "\n",
        "\n"
      ],
      "metadata": {
        "id": "tBpY5ekJphqQ"
      }
    },
    {
      "cell_type": "markdown",
      "source": [
        "#### Chart - 10"
      ],
      "metadata": {
        "id": "U2RJ9gkRphqQ"
      }
    },
    {
      "cell_type": "code",
      "source": [
        "# Chart - 10 visualization code\n",
        "plt.figure(figsize=(10, 6))\n",
        "sns.countplot(x='Status', hue='Pickup point', data=df)\n",
        "plt.title('Trip Status by Pickup Point')\n",
        "plt.xlabel('Pickup Point')\n",
        "plt.ylabel('Count')"
      ],
      "metadata": {
        "id": "GM7a4YP4phqQ"
      },
      "execution_count": null,
      "outputs": []
    },
    {
      "cell_type": "markdown",
      "source": [
        "##### 1. Why did you pick the specific chart?"
      ],
      "metadata": {
        "id": "1M8mcRywphqQ"
      }
    },
    {
      "cell_type": "markdown",
      "source": [
        "I chose a grouped bar chart to visualize the trip status by pickup point. This allows for a direct comparison of the number of completed, cancelled, and unavailable trips at the airport and in the city.\n",
        "\n"
      ],
      "metadata": {
        "id": "8agQvks0phqQ"
      }
    },
    {
      "cell_type": "markdown",
      "source": [
        "##### 2. What is/are the insight(s) found from the chart?"
      ],
      "metadata": {
        "id": "tgIPom80phqQ"
      }
    },
    {
      "cell_type": "markdown",
      "source": [
        "The chart reveals that the number of \"No Cars Available\" is much higher at the airport than in the city. This suggests that there is a shortage of drivers at the airport. On the other hand, the number of \"Cancelled\" trips is much higher in the city than at the airport. This could be because drivers in the city are more likely to cancel trips due to traffic or other reasons.\n",
        "\n"
      ],
      "metadata": {
        "id": "Qp13pnNzphqQ"
      }
    },
    {
      "cell_type": "markdown",
      "source": [
        "##### 3. Will the gained insights help creating a positive business impact?\n",
        "Are there any insights that lead to negative growth? Justify with specific reason."
      ],
      "metadata": {
        "id": "JMzcOPDDphqR"
      }
    },
    {
      "cell_type": "markdown",
      "source": [
        "This insight can help Uber to develop targeted solutions to address the specific problems in each location. For example, they could offer incentives to drivers to go to the airport, and they could investigate the reasons for the high number of cancellations in the city.\n",
        "\n",
        "\n",
        "Yes, the insights that point to negative growth are the high numbers of \"Cancelled\" trips and \"No Cars Available\". Here's the justification:\n",
        "\n",
        "Lost Revenue: Every time a trip is cancelled or a car is unavailable, Uber loses out on the revenue it would have earned from that trip. This has a direct and immediate negative impact on the company's bottom line.\n",
        "Poor Customer Experience: When a customer's request is cancelled or they can't get a car, it creates a frustrating and negative experience. This can lead to them choosing a competitor for their next ride, resulting in customer churn and a loss of future revenue.\n",
        "Damaged Brand Reputation: If customers consistently have a bad experience with Uber, it will damage the company's brand reputation. This can make it harder to attract new customers and retain existing ones, leading to long-term negative growth.\n",
        "In essence, the high number of unfulfilled requests is a clear indicator of a problem that is actively harming the business and preventing it from growing.\n",
        "\n"
      ],
      "metadata": {
        "id": "R4Ka1PC2phqR"
      }
    },
    {
      "cell_type": "markdown",
      "source": [
        "#### Chart - 11"
      ],
      "metadata": {
        "id": "x-EpHcCOp1ci"
      }
    },
    {
      "cell_type": "code",
      "source": [
        "# Chart - 11 visualization code\n",
        "plt.figure(figsize=(10, 6))\n",
        "sns.countplot(x='Status', hue='time_slot', data=df)\n",
        "plt.title('Trip Status by Time Slot')\n",
        "plt.xlabel('Time Slot')\n",
        "plt.ylabel('Count')"
      ],
      "metadata": {
        "id": "mAQTIvtqp1cj"
      },
      "execution_count": null,
      "outputs": []
    },
    {
      "cell_type": "markdown",
      "source": [
        "##### 1. Why did you pick the specific chart?"
      ],
      "metadata": {
        "id": "X_VqEhTip1ck"
      }
    },
    {
      "cell_type": "markdown",
      "source": [
        "I chose a grouped bar chart to visualize the trip status by time slot. This allows for a direct comparison of the number of completed, cancelled, and unavailable trips in each time slot."
      ],
      "metadata": {
        "id": "-vsMzt_np1ck"
      }
    },
    {
      "cell_type": "markdown",
      "source": [
        "##### 2. What is/are the insight(s) found from the chart?"
      ],
      "metadata": {
        "id": "8zGJKyg5p1ck"
      }
    },
    {
      "cell_type": "markdown",
      "source": [
        "The chart reveals that the \"No Cars Available\" status is most prominent during the evening, while \"Cancelled\" trips are most common in the morning. This is consistent with what we saw in the hourly chart."
      ],
      "metadata": {
        "id": "ZYdMsrqVp1ck"
      }
    },
    {
      "cell_type": "markdown",
      "source": [
        "##### 3. Will the gained insights help creating a positive business impact?\n",
        "Are there any insights that lead to negative growth? Justify with specific reason."
      ],
      "metadata": {
        "id": "PVzmfK_Ep1ck"
      }
    },
    {
      "cell_type": "markdown",
      "source": [
        "These insights can help Uber to develop targeted solutions to address the supply-demand gap at different times of the day. For example, they could offer incentives to drivers to be on the road during the evening peak hours, and they could investigate the reasons for the high number of cancellations during the morning peak hours. By addressing these issues, Uber can improve the customer experience and increase revenue.\n",
        "\n",
        "Yes, the insights that point to negative growth are the high numbers of \"Cancelled\" trips and \"No Cars Available\". Here's the justification:\n",
        "\n",
        "Lost Revenue: Every time a trip is cancelled or a car is unavailable, Uber loses out on the revenue it would have earned from that trip. This has a direct and immediate negative impact on the company's bottom line.\n",
        "Poor Customer Experience: When a customer's request is cancelled or they can't get a car, it creates a frustrating and negative experience. This can lead to them choosing a competitor for their next ride, resulting in customer churn and a loss of future revenue.\n",
        "Damaged Brand Reputation: If customers consistently have a bad experience with Uber, it will damage the company's brand reputation. This can make it harder to attract new customers and retain existing ones, leading to long-term negative growth.\n",
        "In essence, the high number of unfulfilled requests is a clear indicator of a problem that is actively harming the business and preventing it from growing.\n",
        "\n"
      ],
      "metadata": {
        "id": "druuKYZpp1ck"
      }
    },
    {
      "cell_type": "markdown",
      "source": [
        "#### Chart - 12"
      ],
      "metadata": {
        "id": "n3dbpmDWp1ck"
      }
    },
    {
      "cell_type": "code",
      "source": [
        "# Chart - 12 visualization code\n",
        "plt.figure(figsize=(10, 6))\n",
        "sns.countplot(x='Status', hue='request_hour', data=df)\n",
        "plt.title('Trip Status by Request Hour')\n",
        "plt.xlabel('Request Hour')\n",
        "plt.ylabel('Count')"
      ],
      "metadata": {
        "id": "bwevp1tKp1ck"
      },
      "execution_count": null,
      "outputs": []
    },
    {
      "cell_type": "markdown",
      "source": [
        "##### 1. Why did you pick the specific chart?"
      ],
      "metadata": {
        "id": "ylSl6qgtp1ck"
      }
    },
    {
      "cell_type": "markdown",
      "source": [
        "I chose a grouped bar chart to visualize the trip status by request hour. This allows for a direct comparison of the number of completed, cancelled, and unavailable trips at each hour of the day."
      ],
      "metadata": {
        "id": "m2xqNkiQp1ck"
      }
    },
    {
      "cell_type": "markdown",
      "source": [
        "##### 2. What is/are the insight(s) found from the chart?"
      ],
      "metadata": {
        "id": "ZWILFDl5p1ck"
      }
    },
    {
      "cell_type": "markdown",
      "source": [
        "The chart reveals that the number of \"No Cars Available\" is highest during the evening peak hours, while the number of \"Cancelled\" trips is highest during the morning peak hours. This is consistent with what we saw in the previous charts."
      ],
      "metadata": {
        "id": "x-lUsV2mp1ck"
      }
    },
    {
      "cell_type": "markdown",
      "source": [
        "##### 3. Will the gained insights help creating a positive business impact?\n",
        "Are there any insights that lead to negative growth? Justify with specific reason."
      ],
      "metadata": {
        "id": "M7G43BXep1ck"
      }
    },
    {
      "cell_type": "markdown",
      "source": [
        "This insight can help Uber to develop targeted solutions to address the supply-demand gap at different times of the day. For example, they could offer incentives to drivers to be on the road during the evening peak hours, and they could investigate the reasons for the high number of cancellations during the morning peak hours. By addressing these issues, Uber can improve the customer experience and increase revenue.\n",
        "\n",
        "Yes, the insights that point to negative growth are the high numbers of \"Cancelled\" trips and \"No Cars Available\". Here's the justification:\n",
        "\n",
        "Lost Revenue: Every time a trip is cancelled or a car is unavailable, Uber loses out on the revenue it would have earned from that trip. This has a direct and immediate negative impact on the company's bottom line.\n",
        "Poor Customer Experience: When a customer's request is cancelled or they can't get a car, it creates a frustrating and negative experience. This can lead to them choosing a competitor for their next ride, resulting in customer churn and a loss of future revenue.\n",
        "Damaged Brand Reputation: If customers consistently have a bad experience with Uber, it will damage the company's brand reputation. This can make it harder to attract new customers and retain existing ones, leading to long-term negative growth.\n",
        "In essence, the high number of unfulfilled requests is a clear indicator of a problem that is actively harming the business and preventing it from growing.\n",
        "\n"
      ],
      "metadata": {
        "id": "5wwDJXsLp1cl"
      }
    },
    {
      "cell_type": "markdown",
      "source": [
        "#### Chart - 13"
      ],
      "metadata": {
        "id": "Ag9LCva-p1cl"
      }
    },
    {
      "cell_type": "code",
      "source": [
        "# Chart - 13 visualization code\n",
        "plt.figure(figsize=(10, 6))\n",
        "sns.countplot(x='Status', hue='time_slot', data=df)\n",
        "plt.title('Trip Status by Time Slot')\n",
        "plt.xlabel('Time Slot')\n",
        "plt.ylabel('Count')"
      ],
      "metadata": {
        "id": "EUfxeq9-p1cl"
      },
      "execution_count": null,
      "outputs": []
    },
    {
      "cell_type": "markdown",
      "source": [
        "##### 1. Why did you pick the specific chart?"
      ],
      "metadata": {
        "id": "E6MkPsBcp1cl"
      }
    },
    {
      "cell_type": "markdown",
      "source": [
        "I chose a grouped bar chart to visualize the trip status by time slot. This allows for a direct comparison of the number of completed, cancelled, and unavailable trips in each time slot.\n",
        "\n"
      ],
      "metadata": {
        "id": "V22bRsFWp1cl"
      }
    },
    {
      "cell_type": "markdown",
      "source": [
        "##### 2. What is/are the insight(s) found from the chart?"
      ],
      "metadata": {
        "id": "2cELzS2fp1cl"
      }
    },
    {
      "cell_type": "markdown",
      "source": [
        "The chart reveals that the \"No Cars Available\" status is most prominent during the evening, while \"Cancelled\" trips are most common in the morning. This is consistent with what we saw in the hourly chart."
      ],
      "metadata": {
        "id": "ozQPc2_Ip1cl"
      }
    },
    {
      "cell_type": "markdown",
      "source": [
        "##### 3. Will the gained insights help creating a positive business impact?\n",
        "Are there any insights that lead to negative growth? Justify with specific reason."
      ],
      "metadata": {
        "id": "3MPXvC8up1cl"
      }
    },
    {
      "cell_type": "markdown",
      "source": [
        "These insights can help Uber to develop targeted solutions to address the supply-demand gap at different times of the day. For example, they could offer incentives to drivers to be on the road during the evening peak hours, and they could investigate the reasons for the high number of cancellations during the morning peak hours. By addressing these issues, Uber can improve the customer experience and increase revenue.\n",
        "\n",
        "Yes, the insights that point to negative growth are the high numbers of \"Cancelled\" trips and \"No Cars Available\". Here's the justification:\n",
        "\n",
        "Lost Revenue: Every time a trip is cancelled or a car is unavailable, Uber loses out on the revenue it would have earned from that trip. This has a direct and immediate negative impact on the company's bottom line.\n",
        "Poor Customer Experience: When a customer's request is cancelled or they can't get a car, it creates a frustrating and negative experience. This can lead to them choosing a competitor for their next ride, resulting in customer churn and a loss of future revenue.\n",
        "Damaged Brand Reputation: If customers consistently have a bad experience with Uber, it will damage the company's brand reputation. This can make it harder to attract new customers and retain existing ones, leading to long-term negative growth.\n",
        "In essence, the high number of unfulfilled requests is a clear indicator of a problem that is actively harming the business and preventing it from growing.\n",
        "\n"
      ],
      "metadata": {
        "id": "GL8l1tdLp1cl"
      }
    },
    {
      "cell_type": "markdown",
      "source": [
        "#### Chart - 14 - Correlation Heatmap"
      ],
      "metadata": {
        "id": "NC_X3p0fY2L0"
      }
    },
    {
      "cell_type": "code",
      "source": [
        "# Correlation Heatmap visualization code\n",
        "plt.figure(figsize=(10, 6))\n",
        "sns.heatmap(df.select_dtypes(include=np.number).corr(), annot=True, cmap='coolwarm')\n",
        "plt.title('Correlation Heatmap')\n",
        "plt.show()"
      ],
      "metadata": {
        "id": "xyC9zolEZNRQ"
      },
      "execution_count": null,
      "outputs": []
    },
    {
      "cell_type": "markdown",
      "source": [
        "##### 1. Why did you pick the specific chart?"
      ],
      "metadata": {
        "id": "UV0SzAkaZNRQ"
      }
    },
    {
      "cell_type": "markdown",
      "source": [
        "I chose a correlation heatmap to visualize the correlation between all the numerical columns in the dataframe. This chart makes it easy to see which variables are correlated with each other, and how strong the correlation is.\n",
        "\n"
      ],
      "metadata": {
        "id": "7kwYgA0NSOXs"
      }
    },
    {
      "cell_type": "markdown",
      "source": [
        "##### 2. What is/are the insight(s) found from the chart?"
      ],
      "metadata": {
        "id": "YPEH6qLeZNRQ"
      }
    },
    {
      "cell_type": "markdown",
      "source": [
        "The correlation heatmap shows that there is a weak positive correlation between request_hour and Request id. This is expected, as the request ID is likely to increase as the day goes on. There is also a very weak negative correlation between Driver id and request_hour. This could indicate that some drivers are less likely to be on the road during certain hours, but the correlation is too weak to be significant. Overall, there are no strong correlations between the numerical variables in the dataset.\n",
        "\n"
      ],
      "metadata": {
        "id": "bfSqtnDqZNRR"
      }
    },
    {
      "cell_type": "markdown",
      "source": [
        "#### Chart - 15 - Pair Plot"
      ],
      "metadata": {
        "id": "q29F0dvdveiT"
      }
    },
    {
      "cell_type": "code",
      "source": [
        "# Pair Plot visualization code\n",
        "sns.pairplot(df.select_dtypes(include=np.number))\n",
        "plt.show()"
      ],
      "metadata": {
        "id": "o58-TEIhveiU"
      },
      "execution_count": null,
      "outputs": []
    },
    {
      "cell_type": "markdown",
      "source": [
        "##### 1. Why did you pick the specific chart?"
      ],
      "metadata": {
        "id": "EXh0U9oCveiU"
      }
    },
    {
      "cell_type": "markdown",
      "source": [
        "I chose a pair plot to visualize the relationships between all the numerical variables in the dataset. This chart allows us to see both the distribution of each variable and the relationships between them."
      ],
      "metadata": {
        "id": "eMmPjTByveiU"
      }
    },
    {
      "cell_type": "markdown",
      "source": [
        "##### 2. What is/are the insight(s) found from the chart?"
      ],
      "metadata": {
        "id": "22aHeOlLveiV"
      }
    },
    {
      "cell_type": "markdown",
      "source": [
        "The pair plot confirms that there are no strong linear relationships between the numerical variables in the dataset. The distributions of the variables are also not very informative."
      ],
      "metadata": {
        "id": "uPQ8RGwHveiV"
      }
    },
    {
      "cell_type": "markdown",
      "source": [
        "## **5. Solution to Business Objective**"
      ],
      "metadata": {
        "id": "JcMwzZxoAimU"
      }
    },
    {
      "cell_type": "markdown",
      "source": [
        "#### What do you suggest the client to achieve Business Objective ?\n",
        "Explain Briefly."
      ],
      "metadata": {
        "id": "8G2x9gOozGDZ"
      }
    },
    {
      "cell_type": "markdown",
      "source": [
        "Based on the analysis, here are some suggestions to achieve the business objective:\n",
        "\n",
        "Address the shortage of cars at the airport in the evening:\n",
        "Offer incentives to drivers to go to the airport during the evening peak hours. This could include higher fares, bonuses for completing a certain number of airport trips, or a guaranteed minimum earning for a certain number of hours.\n",
        "Provide drivers with real-time information about the demand at the airport, so that they can make an informed decision about whether or not to go there.\n",
        "Address the high number of cancellations in the city in the morning:\n",
        "Investigate the reasons for the high number of cancellations. This could be done by surveying drivers or by analyzing the data to see if there are any patterns in the cancellations.\n",
        "Provide drivers with more information about a trip before they accept it, such as the destination and the estimated fare. This will help them to make a more informed decision about whether or not to accept the trip.\n",
        "Implement a penalty for drivers who cancel trips without a valid reason. This will discourage drivers from cancelling trips unnecessarily.\n",
        "Improve the overall customer experience:\n",
        "Provide customers with more accurate information about the estimated time of arrival of their ride.\n",
        "Offer customers a discount or a free ride if their trip is cancelled or if they have to wait for a long time for a car.\n",
        "Implement a system to track customer feedback and use it to improve the service.\n"
      ],
      "metadata": {
        "id": "pASKb0qOza21"
      }
    },
    {
      "cell_type": "markdown",
      "source": [
        "# **Conclusion**"
      ],
      "metadata": {
        "id": "gCX9965dhzqZ"
      }
    },
    {
      "cell_type": "markdown",
      "source": [
        "The analysis of the Uber request data has revealed a significant supply-demand gap, which is a major problem for the business. The key findings are:\n",
        "\n",
        "There is a high rate of unfulfilled requests, with a large number of \"Cancelled\" trips and \"No Cars Available\".\n",
        "The nature of the problem is different in the city and at the airport. In the city, the main problem is \"Cancelled\" trips, especially during the morning peak hours. At the airport, the main problem is \"No Cars Available\", especially during the evening peak hours.\n",
        "Based on these findings, we have recommended a number of targeted solutions to address the supply-demand gap. These include offering incentives to drivers to go to the airport, investigating the reasons for cancellations in the city, and improving the overall customer experience. By implementing these solutions, Uber can reduce the number of unfulfilled requests, improve customer satisfaction, and increase revenue."
      ],
      "metadata": {
        "id": "Fjb1IsQkh3yE"
      }
    },
    {
      "cell_type": "markdown",
      "source": [
        "### ***Hurrah! You have successfully completed your EDA Capstone Project !!!***"
      ],
      "metadata": {
        "id": "gIfDvo9L0UH2"
      }
    },
    {
      "cell_type": "code",
      "source": [],
      "metadata": {
        "id": "dYX880etpL0x"
      },
      "execution_count": null,
      "outputs": []
    },
    {
      "cell_type": "code",
      "source": [],
      "metadata": {
        "id": "-6Vl263upPVI"
      },
      "execution_count": null,
      "outputs": []
    }
  ]
}